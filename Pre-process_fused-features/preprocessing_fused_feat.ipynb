{
 "cells": [
  {
   "cell_type": "code",
   "execution_count": 1,
   "metadata": {
    "colab": {
     "base_uri": "https://localhost:8080/"
    },
    "executionInfo": {
     "elapsed": 1917,
     "status": "ok",
     "timestamp": 1735027080611,
     "user": {
      "displayName": "Deepfake Detection",
      "userId": "16853363008574283880"
     },
     "user_tz": -330
    },
    "id": "WhDEAN9Uf0mH",
    "outputId": "f3cf21b8-4756-46b0-e3b3-81965ccf4e6a"
   },
   "outputs": [
    {
     "name": "stdout",
     "output_type": "stream",
     "text": [
      "Inspecting HDF5 file: drive/MyDrive/final_dataset/features/fused/fused_features_2.h5\n",
      "==================================================\n",
      "Top-level structure:\n",
      "Dataset: fused_fake_features - Shape: (967, 16, 1280) - Dtype: float32\n",
      "Dataset: fused_real_features - Shape: (967, 48, 1280) - Dtype: float32\n",
      "==================================================\n",
      "File Attributes:\n",
      "==================================================\n",
      "Preview of Datasets:\n",
      "\n",
      "Dataset: fused_fake_features - Shape: (967, 16, 1280) - Dtype: float32\n",
      "First 5 entries: [[[ 0.01540729 -0.04765682 -0.04595506 ... -0.00823935 -0.00095613\n",
      "   -0.06812273]\n",
      "  [ 0.0153143  -0.04762641 -0.04596613 ... -0.00822124 -0.00101047\n",
      "   -0.06812993]\n",
      "  [ 0.0151509  -0.04780773 -0.04618119 ... -0.00839374 -0.0011356\n",
      "   -0.06837457]\n",
      "  ...\n",
      "  [ 0.01536437 -0.04743315 -0.04590159 ... -0.00806938 -0.00098176\n",
      "   -0.06794217]\n",
      "  [ 0.01528729 -0.04743528 -0.04598815 ... -0.00809216 -0.00097488\n",
      "   -0.06799898]\n",
      "  [ 0.01532758 -0.04759153 -0.04591957 ... -0.00814309 -0.0010737\n",
      "   -0.06797442]]\n",
      "\n",
      " [[ 0.01537021 -0.04737755 -0.04537702 ... -0.00810175 -0.00117367\n",
      "   -0.06775736]\n",
      "  [ 0.0154072  -0.04735136 -0.04542564 ... -0.00801611 -0.00105235\n",
      "   -0.06776236]\n",
      "  [ 0.01549555 -0.04726291 -0.04540643 ... -0.00797881 -0.00100588\n",
      "   -0.06775598]\n",
      "  ...\n",
      "  [ 0.0154151  -0.04735705 -0.04542003 ... -0.00800086 -0.00104439\n",
      "   -0.06775239]\n",
      "  [ 0.01547454 -0.04733722 -0.04538788 ... -0.0080433  -0.00105651\n",
      "   -0.06781661]\n",
      "  [ 0.01542519 -0.04733307 -0.04539343 ... -0.00804666 -0.00109082\n",
      "   -0.06776193]]\n",
      "\n",
      " [[ 0.01479973 -0.04773455 -0.04532142 ... -0.00835859 -0.00185372\n",
      "   -0.0676879 ]\n",
      "  [ 0.01515701 -0.04768968 -0.04524014 ... -0.00820823 -0.00142104\n",
      "   -0.06781724]\n",
      "  [ 0.01524842 -0.04777298 -0.04527624 ... -0.00816326 -0.00149038\n",
      "   -0.06766964]\n",
      "  ...\n",
      "  [ 0.01527005 -0.04765327 -0.04513024 ... -0.00811381 -0.00146674\n",
      "   -0.06763545]\n",
      "  [ 0.01492301 -0.04770184 -0.04526475 ... -0.00827804 -0.00178709\n",
      "   -0.06762854]\n",
      "  [ 0.0149858  -0.04776908 -0.04523942 ... -0.00827528 -0.00174782\n",
      "   -0.06771359]]\n",
      "\n",
      " [[ 0.01558402 -0.0474746  -0.0455366  ... -0.0079155  -0.000888\n",
      "   -0.06789532]\n",
      "  [ 0.0155243  -0.0475417  -0.04556797 ... -0.00797932 -0.00095095\n",
      "   -0.06794304]\n",
      "  [ 0.01553628 -0.04752751 -0.04548911 ... -0.00796467 -0.00094147\n",
      "   -0.06789108]\n",
      "  ...\n",
      "  [ 0.0154878  -0.04755091 -0.0455157  ... -0.00803892 -0.0009843\n",
      "   -0.06795969]\n",
      "  [ 0.01558726 -0.04751223 -0.04549875 ... -0.00795287 -0.00091682\n",
      "   -0.0679269 ]\n",
      "  [ 0.01551405 -0.0475181  -0.04553778 ... -0.0080014  -0.00095428\n",
      "   -0.06792604]]\n",
      "\n",
      " [[ 0.01537352 -0.04757307 -0.04575608 ... -0.00794198 -0.00106614\n",
      "   -0.0681306 ]\n",
      "  [ 0.01545988 -0.04750312 -0.04565829 ... -0.00786556 -0.00091593\n",
      "   -0.06806189]\n",
      "  [ 0.01530377 -0.04751491 -0.04564887 ... -0.00796872 -0.00112058\n",
      "   -0.06804811]\n",
      "  ...\n",
      "  [ 0.01528984 -0.04750291 -0.04563431 ... -0.0081206  -0.00120623\n",
      "   -0.06811099]\n",
      "  [ 0.01538519 -0.04763164 -0.04557522 ... -0.00799257 -0.00096207\n",
      "   -0.06812035]\n",
      "  [ 0.01541203 -0.0476526  -0.04544497 ... -0.00808239 -0.00109483\n",
      "   -0.06806472]]]\n",
      "\n",
      "Dataset: fused_real_features - Shape: (967, 48, 1280) - Dtype: float32\n",
      "First 5 entries: [[[ 1.5155753e-02 -4.7675043e-02 -4.4946503e-02 ... -8.4066708e-03\n",
      "   -1.6178817e-03 -6.7612752e-02]\n",
      "  [ 1.5190659e-02 -4.7659945e-02 -4.4987172e-02 ... -8.3651738e-03\n",
      "   -1.5534040e-03 -6.7637213e-02]\n",
      "  [ 1.5467473e-02 -4.7287881e-02 -4.6352927e-02 ... -7.6070023e-03\n",
      "   -4.0609494e-04 -6.8205729e-02]\n",
      "  ...\n",
      "  [ 1.5188275e-02 -4.7638599e-02 -4.4975478e-02 ... -8.3474061e-03\n",
      "   -1.5396001e-03 -6.7623630e-02]\n",
      "  [ 1.5186760e-02 -4.7652643e-02 -4.4997569e-02 ... -8.3416868e-03\n",
      "   -1.5197725e-03 -6.7632750e-02]\n",
      "  [ 1.5677154e-02 -4.7149912e-02 -4.6415124e-02 ... -7.5148754e-03\n",
      "   -2.9570959e-04 -6.8093151e-02]]\n",
      "\n",
      " [[ 1.5856622e-02 -4.7291245e-02 -4.7106508e-02 ... -7.4713351e-03\n",
      "    7.7364393e-06 -6.8724461e-02]\n",
      "  [ 1.5186811e-02 -4.7625523e-02 -4.5085270e-02 ... -8.3783641e-03\n",
      "   -1.5611964e-03 -6.7821257e-02]\n",
      "  [ 1.5888717e-02 -4.7290422e-02 -4.6871014e-02 ... -7.4667344e-03\n",
      "   -7.4880460e-05 -6.8607680e-02]\n",
      "  ...\n",
      "  [ 1.5764389e-02 -4.6973713e-02 -4.5998514e-02 ... -7.6452466e-03\n",
      "   -4.4895677e-04 -6.8161301e-02]\n",
      "  [ 1.5822506e-02 -4.7512084e-02 -4.7609132e-02 ... -7.3438250e-03\n",
      "    2.1650840e-04 -6.8940140e-02]\n",
      "  [ 1.5260102e-02 -4.7699254e-02 -4.5594770e-02 ... -8.2052480e-03\n",
      "   -1.2026757e-03 -6.8165600e-02]]\n",
      "\n",
      " [[ 1.5537816e-02 -4.7711760e-02 -4.5542322e-02 ... -8.0390368e-03\n",
      "   -1.1518196e-03 -6.8032466e-02]\n",
      "  [ 1.5838029e-02 -4.7362208e-02 -4.7028579e-02 ... -7.5208214e-03\n",
      "   -8.6181019e-05 -6.8647079e-02]\n",
      "  [ 1.5947497e-02 -4.7400318e-02 -4.7072507e-02 ... -7.4508553e-03\n",
      "   -2.2204555e-05 -6.8713062e-02]\n",
      "  ...\n",
      "  [ 1.5556197e-02 -4.7670387e-02 -4.6500571e-02 ... -7.6873181e-03\n",
      "   -4.6918343e-04 -6.8737939e-02]\n",
      "  [ 1.5624976e-02 -4.7716733e-02 -4.6784680e-02 ... -7.7507375e-03\n",
      "   -3.7462369e-04 -6.8880275e-02]\n",
      "  [ 0.0000000e+00  0.0000000e+00  0.0000000e+00 ...  0.0000000e+00\n",
      "    0.0000000e+00  0.0000000e+00]]\n",
      "\n",
      " [[ 1.5625920e-02 -4.7172293e-02 -4.6236482e-02 ... -7.5661670e-03\n",
      "   -3.8166679e-04 -6.8124115e-02]\n",
      "  [ 1.5836533e-02 -4.7484517e-02 -4.7571477e-02 ... -7.2837481e-03\n",
      "    4.1760958e-04 -6.9068536e-02]\n",
      "  [ 1.5498619e-02 -4.7511023e-02 -4.6097603e-02 ... -7.8272084e-03\n",
      "   -6.6492992e-04 -6.8244964e-02]\n",
      "  ...\n",
      "  [ 1.5380879e-02 -4.7681943e-02 -4.6035733e-02 ... -8.0413502e-03\n",
      "   -8.9566316e-04 -6.8314932e-02]\n",
      "  [ 1.5592962e-02 -4.7168083e-02 -4.5799434e-02 ... -7.6357513e-03\n",
      "   -5.5866095e-04 -6.7863472e-02]\n",
      "  [ 1.5888978e-02 -4.7588367e-02 -4.7438085e-02 ... -7.3426911e-03\n",
      "    2.4065435e-04 -6.8987072e-02]]\n",
      "\n",
      " [[ 1.5984315e-02 -4.7163893e-02 -4.6270337e-02 ... -7.4633090e-03\n",
      "   -2.2059314e-04 -6.8106622e-02]\n",
      "  [ 1.5803186e-02 -4.7262054e-02 -4.6904076e-02 ... -7.6364228e-03\n",
      "   -2.9930533e-04 -6.8844825e-02]\n",
      "  [ 1.5776196e-02 -4.7132764e-02 -4.6468895e-02 ... -7.5758062e-03\n",
      "   -2.2932704e-04 -6.8842232e-02]\n",
      "  ...\n",
      "  [ 1.6148655e-02 -4.6960179e-02 -4.6398375e-02 ... -7.1782651e-03\n",
      "   -2.4686055e-05 -6.8163514e-02]\n",
      "  [ 1.6087731e-02 -4.7071137e-02 -4.6451312e-02 ... -7.2556613e-03\n",
      "   -3.4996439e-05 -6.8160005e-02]\n",
      "  [ 1.5492996e-02 -4.7491938e-02 -4.6031892e-02 ... -7.8348890e-03\n",
      "   -7.0867245e-04 -6.8247050e-02]]]\n"
     ]
    }
   ],
   "source": [
    "import h5py\n",
    "file_path = 'drive/MyDrive/final_dataset/features/fused/fused_features_2.h5'\n",
    "def inspect_hdf5(file_path):\n",
    "    try:\n",
    "        with h5py.File(file_path, 'r') as f:\n",
    "            print(f\"Inspecting HDF5 file: {file_path}\")\n",
    "            print(\"=\"*50)\n",
    "\n",
    "            print(\"Top-level structure:\")\n",
    "            def print_structure(name, obj):\n",
    "                if isinstance(obj, h5py.Group):\n",
    "                    print(f\"Group: {name}\")\n",
    "                elif isinstance(obj, h5py.Dataset):\n",
    "                    print(f\"Dataset: {name} - Shape: {obj.shape} - Dtype: {obj.dtype}\")\n",
    "\n",
    "            f.visititems(print_structure)\n",
    "\n",
    "            print(\"=\"*50)\n",
    "\n",
    "            print(\"File Attributes:\")\n",
    "            for attr in f.attrs:\n",
    "                print(f\"{attr}: {f.attrs[attr]}\")\n",
    "\n",
    "            print(\"=\"*50)\n",
    "\n",
    "            print(\"Preview of Datasets:\")\n",
    "            def preview_dataset(name, obj):\n",
    "                if isinstance(obj, h5py.Dataset):\n",
    "                    print(f\"\\nDataset: {name} - Shape: {obj.shape} - Dtype: {obj.dtype}\")\n",
    "                    print(f\"First 5 entries: {obj[:5]}\")\n",
    "\n",
    "            f.visititems(preview_dataset)\n",
    "\n",
    "    except Exception as e:\n",
    "        print(f\"Error inspecting HDF5 file: {e}\")\n",
    "\n",
    "inspect_hdf5(file_path)\n"
   ]
  },
  {
   "cell_type": "code",
   "execution_count": 2,
   "metadata": {
    "colab": {
     "base_uri": "https://localhost:8080/"
    },
    "executionInfo": {
     "elapsed": 571,
     "status": "ok",
     "timestamp": 1735027085807,
     "user": {
      "displayName": "Deepfake Detection",
      "userId": "16853363008574283880"
     },
     "user_tz": -330
    },
    "id": "Xemegh_XhhMi",
    "outputId": "5a7cc1a4-6745-49b1-b074-383c73755a64"
   },
   "outputs": [
    {
     "name": "stdout",
     "output_type": "stream",
     "text": [
      "Datasets in the file:\n",
      "Dataset: fused_fake_features\n",
      "  Shape: (967, 16, 1280)\n",
      "  Dtype: float32\n",
      "Dataset: fused_real_features\n",
      "  Shape: (967, 48, 1280)\n",
      "  Dtype: float32\n"
     ]
    }
   ],
   "source": [
    "import h5py\n",
    "\n",
    "def list_datasets(h5file):\n",
    "    \"\"\"\n",
    "    Recursively lists all datasets in the HDF5 file.\n",
    "\n",
    "    Parameters:\n",
    "    h5file (h5py.File): Open HDF5 file object.\n",
    "\n",
    "    Returns:\n",
    "    None\n",
    "    \"\"\"\n",
    "    def explore_group(group, path=\"\"):\n",
    "        for key in group.keys():\n",
    "            item = group[key]\n",
    "            full_path = f\"{path}/{key}\" if path else key\n",
    "            if isinstance(item, h5py.Dataset):\n",
    "                print(f\"Dataset: {full_path}\")\n",
    "                print(f\"  Shape: {item.shape}\")\n",
    "                print(f\"  Dtype: {item.dtype}\")\n",
    "            elif isinstance(item, h5py.Group):\n",
    "                explore_group(item, full_path)\n",
    "\n",
    "    explore_group(h5file)\n",
    "\n",
    "with h5py.File(file_path, 'r') as h5f:\n",
    "    print(\"Datasets in the file:\")\n",
    "    list_datasets(h5f)\n"
   ]
  },
  {
   "cell_type": "code",
   "execution_count": 4,
   "metadata": {
    "colab": {
     "base_uri": "https://localhost:8080/"
    },
    "executionInfo": {
     "elapsed": 5729,
     "status": "ok",
     "timestamp": 1735027109094,
     "user": {
      "displayName": "Deepfake Detection",
      "userId": "16853363008574283880"
     },
     "user_tz": -330
    },
    "id": "soOkLJDtiXWu",
    "outputId": "8786cada-c7c6-4cbb-f1a3-160751d7980f"
   },
   "outputs": [
    {
     "name": "stdout",
     "output_type": "stream",
     "text": [
      "Fake Features Example: [ 0.01540729 -0.04765682 -0.04595506  0.00290187  0.00493025]\n",
      "Real Features Example: [ 0.01515575 -0.04767504 -0.0449465   0.00277022  0.004285  ]\n"
     ]
    }
   ],
   "source": [
    "\n",
    "with h5py.File(file_path, 'r') as h5f:\n",
    "    fake_features = h5f['fused_fake_features'][:]\n",
    "    real_features = h5f['fused_real_features'][:]\n",
    "\n",
    "    print(\"Fake Features Example:\", fake_features[0, 0, :5])  # First 5 values of the first temporal step\n",
    "    print(\"Real Features Example:\", real_features[0, 0, :5])  # Same for real\n"
   ]
  },
  {
   "cell_type": "code",
   "execution_count": 5,
   "metadata": {
    "colab": {
     "base_uri": "https://localhost:8080/"
    },
    "executionInfo": {
     "elapsed": 790,
     "status": "ok",
     "timestamp": 1735027117436,
     "user": {
      "displayName": "Deepfake Detection",
      "userId": "16853363008574283880"
     },
     "user_tz": -330
    },
    "id": "IBNdIHxvsCb1",
    "outputId": "01a8da68-7319-4936-cc3f-63c03acfc82b"
   },
   "outputs": [
    {
     "name": "stdout",
     "output_type": "stream",
     "text": [
      "Fake Features Stats:\n",
      "  Mean: -0.025714366\n",
      "  Std Dev: 0.026470216\n",
      "  Min: -0.12581842\n",
      "  Max: 0.058005176\n",
      "Real Features Stats:\n",
      "  Mean: -0.02557558\n",
      "  Std Dev: 0.026551293\n",
      "  Min: -0.12594852\n",
      "  Max: 0.058584154\n"
     ]
    }
   ],
   "source": [
    "import numpy as np\n",
    "\n",
    "print(\"Fake Features Stats:\")\n",
    "print(\"  Mean:\", np.mean(fake_features))\n",
    "print(\"  Std Dev:\", np.std(fake_features))\n",
    "print(\"  Min:\", np.min(fake_features))\n",
    "print(\"  Max:\", np.max(fake_features))\n",
    "\n",
    "print(\"Real Features Stats:\")\n",
    "print(\"  Mean:\", np.mean(real_features))\n",
    "print(\"  Std Dev:\", np.std(real_features))\n",
    "print(\"  Min:\", np.min(real_features))\n",
    "print(\"  Max:\", np.max(real_features))\n"
   ]
  },
  {
   "cell_type": "code",
   "execution_count": 6,
   "metadata": {
    "colab": {
     "base_uri": "https://localhost:8080/",
     "height": 472
    },
    "executionInfo": {
     "elapsed": 1037,
     "status": "ok",
     "timestamp": 1735027125176,
     "user": {
      "displayName": "Deepfake Detection",
      "userId": "16853363008574283880"
     },
     "user_tz": -330
    },
    "id": "6hvkr8q6sRAd",
    "outputId": "3889ab3d-8c2e-4fa5-9361-a89b02e75a16"
   },
   "outputs": [
    {
     "data": {
      "image/png": "[encoded data removed]",
      "text/plain": [
       "<Figure size 640x480 with 1 Axes>"
      ]
     },
     "metadata": {},
     "output_type": "display_data"
    }
   ],
   "source": [
    "import matplotlib.pyplot as plt\n",
    "\n",
    "plt.plot(fake_features[0, :, 0], label=\"Fake Feature [0, :, 0]\")\n",
    "plt.plot(real_features[0, :, 0], label=\"Real Feature [0, :, 0]\")\n",
    "plt.legend()\n",
    "plt.xlabel(\"Time Steps\")\n",
    "plt.ylabel(\"Feature Value\")\n",
    "plt.title(\"Feature Evolution Over Time\")\n",
    "plt.show()\n"
   ]
  },
  {
   "cell_type": "code",
   "execution_count": null,
   "metadata": {
    "id": "RPUuYaJIrOKc"
   },
   "outputs": [],
   "source": []
  }
 ],
 "metadata": {
  "colab": {
   "authorship_tag": "ABX9TyMNZ9yoHIxsvHRIwiRDZCGt",
   "mount_file_id": "1S4SPFfBh3fmQSGMq2GNQu-yHgkNp-MoQ",
   "provenance": []
  },
  "kernelspec": {
   "display_name": "Python 3",
   "name": "python3"
  },
  "language_info": {
   "name": "python"
  }
 },
 "nbformat": 4,
 "nbformat_minor": 0
}
